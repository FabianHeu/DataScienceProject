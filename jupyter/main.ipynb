{
 "cells": [
  {
   "cell_type": "code",
   "execution_count": 1,
   "id": "82980a40",
   "metadata": {},
   "outputs": [],
   "source": [
    "import pandas as pd\n",
    "import numpy as np"
   ]
  },
  {
   "cell_type": "code",
   "execution_count": 2,
   "id": "de444c8d",
   "metadata": {},
   "outputs": [
    {
     "name": "stdout",
     "output_type": "stream",
     "text": [
      "RangeIndex(start=0, stop=654, step=1)\n"
     ]
    }
   ],
   "source": [
    "datafile = './'\n",
    "file = pd.read_csv('India_vaccination.csv')\n",
    "index = file.index\n",
    "columns = file.columns\n",
    "data = file.values\n",
    "\n",
    "print(index)"
   ]
  },
  {
   "cell_type": "code",
   "execution_count": 4,
   "id": "ff12a81e",
   "metadata": {},
   "outputs": [
    {
     "name": "stdout",
     "output_type": "stream",
     "text": [
      "RangeIndex(start=0, stop=334, step=1)\n"
     ]
    }
   ],
   "source": [
    "fileGermany = pd.read_csv('germany_vaccination.csv')\n",
    "indexGermany = fileGermany.index\n",
    "columnsGermany = fileGermany.columns\n",
    "dataGermany = fileGermany.values\n",
    "\n",
    "print(indexGermany)\n"
   ]
  },
  {
   "cell_type": "code",
   "execution_count": null,
   "id": "d0c72471",
   "metadata": {},
   "outputs": [],
   "source": []
  }
 ],
 "metadata": {
  "kernelspec": {
   "display_name": "Python 3 (ipykernel)",
   "language": "python",
   "name": "python3"
  },
  "language_info": {
   "codemirror_mode": {
    "name": "ipython",
    "version": 3
   },
   "file_extension": ".py",
   "mimetype": "text/x-python",
   "name": "python",
   "nbconvert_exporter": "python",
   "pygments_lexer": "ipython3",
   "version": "3.7.10"
  }
 },
 "nbformat": 4,
 "nbformat_minor": 5
}
